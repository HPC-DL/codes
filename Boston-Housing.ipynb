{
 "cells": [
  {
   "cell_type": "code",
   "execution_count": 2,
   "id": "5908b1e5",
   "metadata": {},
   "outputs": [],
   "source": [
    "import numpy as np\n",
    "import pandas as pd\n",
    "import tensorflow as tf\n",
    "import matplotlib.pyplot as plt\n",
    "from sklearn.model_selection import train_test_split\n",
    "from sklearn.preprocessing import StandardScaler\n",
    "from sklearn import metrics\n",
    "import keras\n",
    "from keras.layers import Dense, Activation, Dropout\n",
    "from keras.models import Sequential"
   ]
  },
  {
   "cell_type": "code",
   "execution_count": 18,
   "id": "f57fc9b0",
   "metadata": {},
   "outputs": [
    {
     "data": {
      "text/html": [
       "<div>\n",
       "<style scoped>\n",
       "    .dataframe tbody tr th:only-of-type {\n",
       "        vertical-align: middle;\n",
       "    }\n",
       "\n",
       "    .dataframe tbody tr th {\n",
       "        vertical-align: top;\n",
       "    }\n",
       "\n",
       "    .dataframe thead th {\n",
       "        text-align: right;\n",
       "    }\n",
       "</style>\n",
       "<table border=\"1\" class=\"dataframe\">\n",
       "  <thead>\n",
       "    <tr style=\"text-align: right;\">\n",
       "      <th></th>\n",
       "      <th>Unnamed: 0</th>\n",
       "      <th>crim</th>\n",
       "      <th>zn</th>\n",
       "      <th>indus</th>\n",
       "      <th>chas</th>\n",
       "      <th>nox</th>\n",
       "      <th>rm</th>\n",
       "      <th>age</th>\n",
       "      <th>dis</th>\n",
       "      <th>rad</th>\n",
       "      <th>tax</th>\n",
       "      <th>ptratio</th>\n",
       "      <th>black</th>\n",
       "      <th>lstat</th>\n",
       "      <th>medv</th>\n",
       "    </tr>\n",
       "  </thead>\n",
       "  <tbody>\n",
       "    <tr>\n",
       "      <th>0</th>\n",
       "      <td>1</td>\n",
       "      <td>0.00632</td>\n",
       "      <td>18.0</td>\n",
       "      <td>2.31</td>\n",
       "      <td>0</td>\n",
       "      <td>0.538</td>\n",
       "      <td>6.575</td>\n",
       "      <td>65.2</td>\n",
       "      <td>4.0900</td>\n",
       "      <td>1</td>\n",
       "      <td>296</td>\n",
       "      <td>15.3</td>\n",
       "      <td>396.90</td>\n",
       "      <td>4.98</td>\n",
       "      <td>24.0</td>\n",
       "    </tr>\n",
       "    <tr>\n",
       "      <th>1</th>\n",
       "      <td>2</td>\n",
       "      <td>0.02731</td>\n",
       "      <td>0.0</td>\n",
       "      <td>7.07</td>\n",
       "      <td>0</td>\n",
       "      <td>0.469</td>\n",
       "      <td>6.421</td>\n",
       "      <td>78.9</td>\n",
       "      <td>4.9671</td>\n",
       "      <td>2</td>\n",
       "      <td>242</td>\n",
       "      <td>17.8</td>\n",
       "      <td>396.90</td>\n",
       "      <td>9.14</td>\n",
       "      <td>21.6</td>\n",
       "    </tr>\n",
       "    <tr>\n",
       "      <th>2</th>\n",
       "      <td>3</td>\n",
       "      <td>0.02729</td>\n",
       "      <td>0.0</td>\n",
       "      <td>7.07</td>\n",
       "      <td>0</td>\n",
       "      <td>0.469</td>\n",
       "      <td>7.185</td>\n",
       "      <td>61.1</td>\n",
       "      <td>4.9671</td>\n",
       "      <td>2</td>\n",
       "      <td>242</td>\n",
       "      <td>17.8</td>\n",
       "      <td>392.83</td>\n",
       "      <td>4.03</td>\n",
       "      <td>34.7</td>\n",
       "    </tr>\n",
       "    <tr>\n",
       "      <th>3</th>\n",
       "      <td>4</td>\n",
       "      <td>0.03237</td>\n",
       "      <td>0.0</td>\n",
       "      <td>2.18</td>\n",
       "      <td>0</td>\n",
       "      <td>0.458</td>\n",
       "      <td>6.998</td>\n",
       "      <td>45.8</td>\n",
       "      <td>6.0622</td>\n",
       "      <td>3</td>\n",
       "      <td>222</td>\n",
       "      <td>18.7</td>\n",
       "      <td>394.63</td>\n",
       "      <td>2.94</td>\n",
       "      <td>33.4</td>\n",
       "    </tr>\n",
       "    <tr>\n",
       "      <th>4</th>\n",
       "      <td>5</td>\n",
       "      <td>0.06905</td>\n",
       "      <td>0.0</td>\n",
       "      <td>2.18</td>\n",
       "      <td>0</td>\n",
       "      <td>0.458</td>\n",
       "      <td>7.147</td>\n",
       "      <td>54.2</td>\n",
       "      <td>6.0622</td>\n",
       "      <td>3</td>\n",
       "      <td>222</td>\n",
       "      <td>18.7</td>\n",
       "      <td>396.90</td>\n",
       "      <td>5.33</td>\n",
       "      <td>36.2</td>\n",
       "    </tr>\n",
       "  </tbody>\n",
       "</table>\n",
       "</div>"
      ],
      "text/plain": [
       "   Unnamed: 0     crim    zn  indus  chas  ...  tax  ptratio   black  lstat  medv\n",
       "0           1  0.00632  18.0   2.31     0  ...  296     15.3  396.90   4.98  24.0\n",
       "1           2  0.02731   0.0   7.07     0  ...  242     17.8  396.90   9.14  21.6\n",
       "2           3  0.02729   0.0   7.07     0  ...  242     17.8  392.83   4.03  34.7\n",
       "3           4  0.03237   0.0   2.18     0  ...  222     18.7  394.63   2.94  33.4\n",
       "4           5  0.06905   0.0   2.18     0  ...  222     18.7  396.90   5.33  36.2\n",
       "\n",
       "[5 rows x 15 columns]"
      ]
     },
     "execution_count": 18,
     "metadata": {},
     "output_type": "execute_result"
    }
   ],
   "source": [
    "df = pd.read_csv(\"Boston.csv\")\n",
    "df.head()"
   ]
  },
  {
   "cell_type": "code",
   "execution_count": 19,
   "id": "54aafba6",
   "metadata": {},
   "outputs": [],
   "source": [
    "x = df.iloc[:,:-1]\n",
    "y = df.iloc[:,-1]\n",
    "X_train, X_test, y_train, y_test = train_test_split(x, y, test_size=0.3, random_state=42)"
   ]
  },
  {
   "cell_type": "code",
   "execution_count": 20,
   "id": "b478592e",
   "metadata": {},
   "outputs": [],
   "source": [
    "mean = X_train.mean(axis=0)\n",
    "std = X_train.std(axis=0)\n",
    "X_train = (X_train - mean)/std\n",
    "X_test = (X_test - mean)/std"
   ]
  },
  {
   "cell_type": "code",
   "execution_count": 23,
   "id": "5d7d9b79",
   "metadata": {},
   "outputs": [],
   "source": [
    "model = Sequential()\n",
    "model.add(Dense(128, activation='relu', input_dim = 14))\n",
    "model.add(Dense(64, activation='relu'))\n",
    "model.add(Dense(32, activation='relu'))\n",
    "model.add(Dense(16, activation='relu'))\n",
    "model.add(Dense(1))"
   ]
  },
  {
   "cell_type": "code",
   "execution_count": 24,
   "id": "6afa043f",
   "metadata": {},
   "outputs": [
    {
     "name": "stdout",
     "output_type": "stream",
     "text": [
      "Epoch 1/25\n",
      "11/11 [==============================] - 1s 15ms/step - loss: 599.9028 - mae: 22.6268 - val_loss: 527.0258 - val_mae: 21.3460\n",
      "Epoch 2/25\n",
      "11/11 [==============================] - 0s 4ms/step - loss: 547.7449 - mae: 21.4813 - val_loss: 456.7663 - val_mae: 19.7028\n",
      "Epoch 3/25\n",
      "11/11 [==============================] - 0s 4ms/step - loss: 438.4783 - mae: 18.8392 - val_loss: 312.9246 - val_mae: 15.8387\n",
      "Epoch 4/25\n",
      "11/11 [==============================] - 0s 4ms/step - loss: 246.9176 - mae: 13.2733 - val_loss: 114.5981 - val_mae: 8.1683\n",
      "Epoch 5/25\n",
      "11/11 [==============================] - 0s 4ms/step - loss: 83.6754 - mae: 7.2931 - val_loss: 65.2190 - val_mae: 5.4943\n",
      "Epoch 6/25\n",
      "11/11 [==============================] - 0s 4ms/step - loss: 63.8853 - mae: 6.3340 - val_loss: 63.0580 - val_mae: 5.1340\n",
      "Epoch 7/25\n",
      "11/11 [==============================] - 0s 4ms/step - loss: 40.7840 - mae: 4.8047 - val_loss: 69.2635 - val_mae: 5.3218\n",
      "Epoch 8/25\n",
      "11/11 [==============================] - 0s 4ms/step - loss: 32.0591 - mae: 4.1651 - val_loss: 57.6390 - val_mae: 5.2437\n",
      "Epoch 9/25\n",
      "11/11 [==============================] - 0s 4ms/step - loss: 25.9715 - mae: 3.7540 - val_loss: 57.8057 - val_mae: 5.2322\n",
      "Epoch 10/25\n",
      "11/11 [==============================] - 0s 4ms/step - loss: 22.3730 - mae: 3.4248 - val_loss: 59.3335 - val_mae: 5.2634\n",
      "Epoch 11/25\n",
      "11/11 [==============================] - 0s 4ms/step - loss: 20.1653 - mae: 3.2340 - val_loss: 57.0652 - val_mae: 5.1654\n",
      "Epoch 12/25\n",
      "11/11 [==============================] - 0s 4ms/step - loss: 18.3162 - mae: 3.0923 - val_loss: 54.4679 - val_mae: 4.9473\n",
      "Epoch 13/25\n",
      "11/11 [==============================] - 0s 4ms/step - loss: 17.0238 - mae: 2.9913 - val_loss: 53.3908 - val_mae: 4.9277\n",
      "Epoch 14/25\n",
      "11/11 [==============================] - 0s 4ms/step - loss: 15.9194 - mae: 2.8810 - val_loss: 55.0061 - val_mae: 5.0597\n",
      "Epoch 15/25\n",
      "11/11 [==============================] - 0s 4ms/step - loss: 15.0656 - mae: 2.8046 - val_loss: 49.5109 - val_mae: 4.7484\n",
      "Epoch 16/25\n",
      "11/11 [==============================] - 0s 4ms/step - loss: 14.4155 - mae: 2.7673 - val_loss: 49.5863 - val_mae: 4.7855\n",
      "Epoch 17/25\n",
      "11/11 [==============================] - 0s 4ms/step - loss: 13.7984 - mae: 2.6824 - val_loss: 48.5671 - val_mae: 4.7815\n",
      "Epoch 18/25\n",
      "11/11 [==============================] - 0s 4ms/step - loss: 13.1954 - mae: 2.6550 - val_loss: 46.5477 - val_mae: 4.5763\n",
      "Epoch 19/25\n",
      "11/11 [==============================] - 0s 4ms/step - loss: 12.7099 - mae: 2.5850 - val_loss: 47.2401 - val_mae: 4.6481\n",
      "Epoch 20/25\n",
      "11/11 [==============================] - 0s 4ms/step - loss: 12.6751 - mae: 2.6039 - val_loss: 44.1203 - val_mae: 4.5037\n",
      "Epoch 21/25\n",
      "11/11 [==============================] - 0s 4ms/step - loss: 11.8800 - mae: 2.5234 - val_loss: 44.3317 - val_mae: 4.4320\n",
      "Epoch 22/25\n",
      "11/11 [==============================] - 0s 4ms/step - loss: 11.7460 - mae: 2.5106 - val_loss: 43.5027 - val_mae: 4.4493\n",
      "Epoch 23/25\n",
      "11/11 [==============================] - 0s 3ms/step - loss: 11.3087 - mae: 2.4776 - val_loss: 42.8940 - val_mae: 4.3808\n",
      "Epoch 24/25\n",
      "11/11 [==============================] - 0s 5ms/step - loss: 11.4429 - mae: 2.4578 - val_loss: 38.9728 - val_mae: 4.1480\n",
      "Epoch 25/25\n",
      "11/11 [==============================] - 0s 4ms/step - loss: 11.1033 - mae: 2.4623 - val_loss: 44.7303 - val_mae: 4.4990\n"
     ]
    },
    {
     "data": {
      "text/plain": [
       "<keras.callbacks.History at 0x7fdd234c62f0>"
      ]
     },
     "execution_count": 24,
     "metadata": {},
     "output_type": "execute_result"
    }
   ],
   "source": [
    "model.compile(optimizer = 'adam', loss= 'mean_squared_error', metrics=['mae'])\n",
    "model.fit(X_train, y_train, epochs=25, validation_split=0.05)"
   ]
  },
  {
   "cell_type": "code",
   "execution_count": 26,
   "id": "e64bb00c",
   "metadata": {},
   "outputs": [
    {
     "name": "stdout",
     "output_type": "stream",
     "text": [
      "5/5 [==============================] - 0s 1ms/step\n",
      "RMSE:  3.7304774147999065\n"
     ]
    }
   ],
   "source": [
    "y_pred = model.predict(X_test)\n",
    "print(\"RMSE: \", np.sqrt(metrics.mean_squared_error(y_test, y_pred)) )"
   ]
  },
  {
   "cell_type": "code",
   "execution_count": 27,
   "id": "52db1b67",
   "metadata": {},
   "outputs": [
    {
     "data": {
      "image/png": "[encoded data removed]",
      "text/plain": [
       "<Figure size 640x480 with 1 Axes>"
      ]
     },
     "metadata": {},
     "output_type": "display_data"
    }
   ],
   "source": [
    "plt.scatter(y_test, y_pred)\n",
    "plt.xlabel(\"Prices\")\n",
    "plt.ylabel(\"Predicted Prices\")\n",
    "plt.title(\"Prices vs Predicted prices\")\n",
    "plt.show()"
   ]
  },
  {
   "cell_type": "code",
   "execution_count": null,
   "id": "cc40e88c",
   "metadata": {},
   "outputs": [],
   "source": []
  }
 ],
 "metadata": {
  "kernelspec": {
   "display_name": "Python 3 (ipykernel)",
   "language": "python",
   "name": "python3"
  },
  "language_info": {
   "codemirror_mode": {
    "name": "ipython",
    "version": 3
   },
   "file_extension": ".py",
   "mimetype": "text/x-python",
   "name": "python",
   "nbconvert_exporter": "python",
   "pygments_lexer": "ipython3",
   "version": "3.10.6"
  }
 },
 "nbformat": 4,
 "nbformat_minor": 5
}
