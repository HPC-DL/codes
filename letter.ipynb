{
 "cells": [
  {
   "cell_type": "code",
   "execution_count": 5,
   "id": "1a54ff99",
   "metadata": {},
   "outputs": [],
   "source": [
    "import numpy as np\n",
    "import tensorflow as tf\n",
    "from sklearn.model_selection import train_test_split\n",
    "from sklearn.metrics import mean_squared_error\n",
    "from sklearn.preprocessing import LabelEncoder"
   ]
  },
  {
   "cell_type": "code",
   "execution_count": 2,
   "id": "f321d94f",
   "metadata": {},
   "outputs": [],
   "source": [
    "data = np.genfromtxt('letter-recognition.data', delimiter=',',dtype=None, encoding='utf-8')"
   ]
  },
  {
   "cell_type": "code",
   "execution_count": 3,
   "id": "4908c792",
   "metadata": {},
   "outputs": [],
   "source": [
    "x = np.array([list(row)[1:] for row in data])\n",
    "y = np.array([list(row)[0] for row in data])"
   ]
  },
  {
   "cell_type": "code",
   "execution_count": 4,
   "id": "c47f19f6",
   "metadata": {},
   "outputs": [],
   "source": [
    "label_encoder = LabelEncoder()\n",
    "y = label_encoder.fit_transform(y)"
   ]
  },
  {
   "cell_type": "code",
   "execution_count": 6,
   "id": "1c1933e1",
   "metadata": {},
   "outputs": [],
   "source": [
    "x_train, x_test, y_train, y_test = train_test_split(x, y, test_size=0.2, random_state=42)"
   ]
  },
  {
   "cell_type": "code",
   "execution_count": 7,
   "id": "098b6608",
   "metadata": {},
   "outputs": [],
   "source": [
    "#Normalize features\n",
    "x_train = x_train/15\n",
    "x_test = x_test/15"
   ]
  },
  {
   "cell_type": "code",
   "execution_count": 8,
   "id": "1b261a34",
   "metadata": {},
   "outputs": [
    {
     "name": "stderr",
     "output_type": "stream",
     "text": [
      "2023-05-30 04:33:33.369687: I tensorflow/core/platform/cpu_feature_guard.cc:193] This TensorFlow binary is optimized with oneAPI Deep Neural Network Library (oneDNN) to use the following CPU instructions in performance-critical operations:  AVX2 FMA\n",
      "To enable them in other operations, rebuild TensorFlow with the appropriate compiler flags.\n"
     ]
    }
   ],
   "source": [
    "model = tf.keras.Sequential([\n",
    "    tf.keras.layers.Dense(64, activation='relu', input_shape = (16,)),\n",
    "    tf.keras.layers.Dense(32, activation='relu'),\n",
    "    tf.keras.layers.Dense(len(label_encoder.classes_),activation='softmax')\n",
    "])"
   ]
  },
  {
   "cell_type": "code",
   "execution_count": 9,
   "id": "cfc254b8",
   "metadata": {},
   "outputs": [
    {
     "name": "stdout",
     "output_type": "stream",
     "text": [
      "Epoch 1/10\n",
      "500/500 [==============================] - 1s 1ms/step - loss: 2.6503 - accuracy: 0.2571\n",
      "Epoch 2/10\n",
      "500/500 [==============================] - 1s 1ms/step - loss: 1.6962 - accuracy: 0.5286\n",
      "Epoch 3/10\n",
      "500/500 [==============================] - 1s 1ms/step - loss: 1.4218 - accuracy: 0.6021\n",
      "Epoch 4/10\n",
      "500/500 [==============================] - 1s 1ms/step - loss: 1.2896 - accuracy: 0.6398\n",
      "Epoch 5/10\n",
      "500/500 [==============================] - 1s 1ms/step - loss: 1.1921 - accuracy: 0.6635\n",
      "Epoch 6/10\n",
      "500/500 [==============================] - 1s 1ms/step - loss: 1.1292 - accuracy: 0.6844\n",
      "Epoch 7/10\n",
      "500/500 [==============================] - 1s 1ms/step - loss: 1.0783 - accuracy: 0.6995\n",
      "Epoch 8/10\n",
      "500/500 [==============================] - 1s 1ms/step - loss: 1.0390 - accuracy: 0.7075\n",
      "Epoch 9/10\n",
      "500/500 [==============================] - 1s 1ms/step - loss: 1.0020 - accuracy: 0.7189\n",
      "Epoch 10/10\n",
      "500/500 [==============================] - 1s 1ms/step - loss: 0.9735 - accuracy: 0.7281\n"
     ]
    },
    {
     "data": {
      "text/plain": [
       "<keras.callbacks.History at 0x7f5e2c4a2a10>"
      ]
     },
     "execution_count": 9,
     "metadata": {},
     "output_type": "execute_result"
    }
   ],
   "source": [
    "model.compile(optimizer='adam', loss='sparse_categorical_crossentropy', metrics=['accuracy'])\n",
    "model.fit(x_train, y_train, epochs=10, batch_size=32)"
   ]
  },
  {
   "cell_type": "code",
   "execution_count": 11,
   "id": "ccd6cbbe",
   "metadata": {},
   "outputs": [
    {
     "name": "stdout",
     "output_type": "stream",
     "text": [
      "125/125 [==============================] - 0s 958us/step - loss: 0.9422 - accuracy: 0.7440\n"
     ]
    },
    {
     "data": {
      "text/plain": [
       "[0.9421521425247192, 0.7440000176429749]"
      ]
     },
     "execution_count": 11,
     "metadata": {},
     "output_type": "execute_result"
    }
   ],
   "source": [
    "accuracy = model.evaluate(x_test, y_test)\n",
    "accuracy"
   ]
  },
  {
   "cell_type": "code",
   "execution_count": 12,
   "id": "a6d24f61",
   "metadata": {},
   "outputs": [
    {
     "name": "stdout",
     "output_type": "stream",
     "text": [
      "125/125 [==============================] - 0s 879us/step\n"
     ]
    }
   ],
   "source": [
    "y_pred = model.predict(x_test)\n",
    "y_pred_classes = np.argmax(y_pred, axis=1)"
   ]
  },
  {
   "cell_type": "code",
   "execution_count": 13,
   "id": "4d047890",
   "metadata": {},
   "outputs": [
    {
     "name": "stdout",
     "output_type": "stream",
     "text": [
      "4.986431589824531\n"
     ]
    }
   ],
   "source": [
    "rmse = np.sqrt(mean_squared_error(y_test, y_pred_classes))\n",
    "print(rmse)"
   ]
  },
  {
   "cell_type": "code",
   "execution_count": null,
   "id": "6e95b719",
   "metadata": {},
   "outputs": [],
   "source": []
  }
 ],
 "metadata": {
  "kernelspec": {
   "display_name": "Python 3 (ipykernel)",
   "language": "python",
   "name": "python3"
  },
  "language_info": {
   "codemirror_mode": {
    "name": "ipython",
    "version": 3
   },
   "file_extension": ".py",
   "mimetype": "text/x-python",
   "name": "python",
   "nbconvert_exporter": "python",
   "pygments_lexer": "ipython3",
   "version": "3.10.6"
  }
 },
 "nbformat": 4,
 "nbformat_minor": 5
}
